{
 "cells": [
  {
   "cell_type": "code",
   "execution_count": 1,
   "metadata": {},
   "outputs": [
    {
     "name": "stdout",
     "output_type": "stream",
     "text": [
      "1 Physical GPUs, 1 Logical GPUs\n"
     ]
    }
   ],
   "source": [
    "# some times Tensorflow has problems with memory growth, if that case happens run this cell.\n",
    "import tensorflow as tf\n",
    "\n",
    "gpus = tf.config.experimental.list_physical_devices('GPU')\n",
    "if gpus:\n",
    "  try:\n",
    "    # Currently, memory growth needs to be the same across GPUs\n",
    "    for gpu in gpus:\n",
    "        tf.config.experimental.set_memory_growth(gpu, True)\n",
    "        #tf.config.experimental.set_virtual_device_configuration(gpu, \n",
    "        #[tf.config.experimental.VirtualDeviceConfiguration(memory_limit=4096)])\n",
    "    logical_gpus = tf.config.experimental.list_logical_devices('GPU')\n",
    "    print(len(gpus), \"Physical GPUs,\", len(logical_gpus), \"Logical GPUs\")\n",
    "  except RuntimeError as e:\n",
    "    # Memory growth must be set before GPUs have been initialized\n",
    "    print(e)"
   ]
  },
  {
   "cell_type": "code",
   "execution_count": 2,
   "metadata": {},
   "outputs": [],
   "source": [
    "import sys\n",
    "import os\n",
    "import argparse\n",
    "import json\n",
    "\n",
    "from sklearn.model_selection import train_test_split\n",
    "import datetime as dt\n",
    "\n",
    "from core.data.data_loader import *\n",
    "from core.models.lstm import ModelLSTM, ModelLSTMParallel, GaussianLSTM\n",
    "from core.models.cnn import ModelCNN, ModelCNNParallel\n",
    "from core.models.mlp import ModelMLP, GaussianMLP\n",
    "from core.models.rnn import ModelRNN\n",
    "\n",
    "from core.utils.metrics import *\n",
    "from core.utils.utils import *\n",
    "\n",
    "import numpy as np\n"
   ]
  },
  {
   "cell_type": "code",
   "execution_count": 14,
   "metadata": {},
   "outputs": [],
   "source": [
    "def manage_models(config):\n",
    "    \n",
    "    type_model = config['model']['name']\n",
    "    model = None\n",
    "\n",
    "    if type_model == 'lstm': #simple LSTM\n",
    "        model = ModelLSTM(config)\n",
    "    elif type_model == 'gaussian-lstm':\n",
    "        model = GaussianLSTM(config)       \n",
    "    elif type_model == 'lstm-parallel':\n",
    "        model = ModelLSTMParallel(config)\n",
    "    elif type_model == 'cnn':\n",
    "        model = ModelCNN(config)\n",
    "    elif type_model == 'cnn-parallel':\n",
    "        model = ModelCNNParallel(config)        \n",
    "    elif type_model == 'mlp':\n",
    "        model = ModelMLP(config)\n",
    "    elif type_model == 'gaussian-mlp':\n",
    "        model = GaussianMLP(config)        \n",
    "    elif type_model == 'simple-rnn':\n",
    "        model = ModelRNN(config)        \n",
    "\n",
    "    return model\n"
   ]
  },
  {
   "cell_type": "code",
   "execution_count": 29,
   "metadata": {},
   "outputs": [
    {
     "name": "stdout",
     "output_type": "stream",
     "text": [
      "Readed\n"
     ]
    }
   ],
   "source": [
    "# reading config file\n",
    "# load differents configurations \n",
    "#configs = json.load(open('configs/config_lstm_parallel_internal.json', 'r'))\n",
    "#configs = json.load(open('configs/config_lstm_parallel_internal_all.json', 'r'))\n",
    "#configs = json.load(open('configs/config_mlp_gaussian.json', 'r'))\n",
    "configs = json.load(open('configs/config_lstm_gaussian.json', 'r'))\n",
    "\n",
    "\n",
    "# create defaults dirs\n",
    "output_bin = configs['paths']['bin_dir']\n",
    "output_path = configs['paths']['save_dir']\n",
    "output_logs = configs['paths']['log_dir']\n",
    "time_steps =  configs['model']['layers'][0]['input_timesteps']  # the number of points or hits\n",
    "t_features = configs['model']['layers'][0]['input_features']  # the number of features of a tensor\n",
    "n_features = configs['data']['features']  # the number of features of data input\n",
    "data_file = configs['data']['filename']\n",
    "split = configs['data']['train_split']  # the number of features of each hits\n",
    "cylindrical = configs['data']['cylindrical']  # set to polar or cartesian coordenates\n",
    "normalise = configs['data']['normalise'] \n",
    "num_hits = configs['data']['num_hits']\n",
    "type_norm = configs['data']['type_norm']\n",
    "points_3d = configs['data']['points_3d'] # what kind of points: (rho, eta, phi) or (eta, phi)    \n",
    "\n",
    "type_model = configs['model']['name']\n",
    "optim = configs['model']['optimizer']\n",
    "arch = configs['model']['layers']\n",
    "is_parallel = configs['model']['isparallel']\n",
    "over_write = configs['model']['overwrite']\n",
    "lr = configs['model']['learningrate']\n",
    "\n",
    "loadModel = configs['training']['load_model']\n",
    "validation_split = configs['training']['validation']\n",
    "epochs = configs['training']['epochs']\n",
    "batch = configs['training']['batch_size']\n",
    "shuffle_train = configs['training']['shuffle']\n",
    "\n",
    "#create a encryp name for dataset\n",
    "path_to, filename = os.path.split(data_file)\n",
    "\n",
    "orig_ds_name = filename\n",
    "\n",
    "encryp_ds_name = get_unique_name(orig_ds_name)\n",
    "decryp_ds_name = get_decryp_name(encryp_ds_name)\n",
    "\n",
    "output_encry = os.path.join(output_path, encryp_ds_name)  \n",
    "if os.path.isdir(output_bin) == False:\n",
    "    os.mkdir(output_bin)\n",
    "\n",
    "if os.path.isdir(output_path) == False: \n",
    "    os.mkdir(output_path)\n",
    "\n",
    "if os.path.isdir(output_encry) == False: \n",
    "    os.mkdir(output_encry)\n",
    "\n",
    "if os.path.isdir(output_logs) == False:\n",
    "    os.mkdir(output_logs)        \n",
    "print('Readed')\n"
   ]
  },
  {
   "cell_type": "code",
   "execution_count": 30,
   "metadata": {},
   "outputs": [
    {
     "name": "stdout",
     "output_type": "stream",
     "text": [
      "[Data] Data loaded from  /data/track-ml/bracis/datasets/eta_n0.5-0.5_phi_n0.5-0.5/eta_n0.5-0.5_phi_n0.5-0.5_20200518171238_tracks.csv\n",
      "[Data] Data set shape  (30000, 30)\n",
      "[Data] Data train shape  (24000, 30)\n",
      "[Data] Data test shape  (6000, 30)\n",
      "[Data] Data coordinates  cylin\n",
      "[Data] Data normalization type  KindNormalization.Scaling\n",
      "[Data] Shape supervised: X(144000, 12) y(144000, 3) :\n",
      "[Data] Normalised : True\n"
     ]
    },
    {
     "data": {
      "text/html": [
       "<div>\n",
       "<style scoped>\n",
       "    .dataframe tbody tr th:only-of-type {\n",
       "        vertical-align: middle;\n",
       "    }\n",
       "\n",
       "    .dataframe tbody tr th {\n",
       "        vertical-align: top;\n",
       "    }\n",
       "\n",
       "    .dataframe thead th {\n",
       "        text-align: right;\n",
       "    }\n",
       "</style>\n",
       "<table border=\"1\" class=\"dataframe\">\n",
       "  <thead>\n",
       "    <tr style=\"text-align: right;\">\n",
       "      <th></th>\n",
       "      <th>0</th>\n",
       "      <th>1</th>\n",
       "      <th>2</th>\n",
       "      <th>3</th>\n",
       "      <th>4</th>\n",
       "      <th>5</th>\n",
       "      <th>6</th>\n",
       "      <th>7</th>\n",
       "      <th>8</th>\n",
       "      <th>9</th>\n",
       "      <th>10</th>\n",
       "      <th>11</th>\n",
       "    </tr>\n",
       "  </thead>\n",
       "  <tbody>\n",
       "    <tr>\n",
       "      <th>0</th>\n",
       "      <td>-3.124665</td>\n",
       "      <td>0.602923</td>\n",
       "      <td>0.176340</td>\n",
       "      <td>-2.620393</td>\n",
       "      <td>0.859325</td>\n",
       "      <td>0.169814</td>\n",
       "      <td>-2.672981</td>\n",
       "      <td>0.654761</td>\n",
       "      <td>0.161274</td>\n",
       "      <td>-2.651677</td>\n",
       "      <td>0.266549</td>\n",
       "      <td>0.142931</td>\n",
       "    </tr>\n",
       "    <tr>\n",
       "      <th>1</th>\n",
       "      <td>-2.384626</td>\n",
       "      <td>0.683787</td>\n",
       "      <td>0.165180</td>\n",
       "      <td>-2.022942</td>\n",
       "      <td>0.886538</td>\n",
       "      <td>0.158366</td>\n",
       "      <td>-2.089496</td>\n",
       "      <td>0.671006</td>\n",
       "      <td>0.147480</td>\n",
       "      <td>-1.840416</td>\n",
       "      <td>0.280253</td>\n",
       "      <td>0.120063</td>\n",
       "    </tr>\n",
       "    <tr>\n",
       "      <th>2</th>\n",
       "      <td>-1.539282</td>\n",
       "      <td>0.709806</td>\n",
       "      <td>0.153752</td>\n",
       "      <td>-1.291654</td>\n",
       "      <td>0.899981</td>\n",
       "      <td>0.144585</td>\n",
       "      <td>-1.119688</td>\n",
       "      <td>0.682782</td>\n",
       "      <td>0.124734</td>\n",
       "      <td>-0.949496</td>\n",
       "      <td>0.288021</td>\n",
       "      <td>0.094836</td>\n",
       "    </tr>\n",
       "    <tr>\n",
       "      <th>3</th>\n",
       "      <td>-0.504570</td>\n",
       "      <td>0.722659</td>\n",
       "      <td>0.139996</td>\n",
       "      <td>-0.076183</td>\n",
       "      <td>0.909727</td>\n",
       "      <td>0.121858</td>\n",
       "      <td>-0.054652</td>\n",
       "      <td>0.689457</td>\n",
       "      <td>0.099643</td>\n",
       "      <td>0.284127</td>\n",
       "      <td>0.292150</td>\n",
       "      <td>0.059734</td>\n",
       "    </tr>\n",
       "    <tr>\n",
       "      <th>4</th>\n",
       "      <td>1.215219</td>\n",
       "      <td>0.731977</td>\n",
       "      <td>0.117310</td>\n",
       "      <td>1.258638</td>\n",
       "      <td>0.915251</td>\n",
       "      <td>0.096789</td>\n",
       "      <td>1.420061</td>\n",
       "      <td>0.693005</td>\n",
       "      <td>0.064729</td>\n",
       "      <td>1.678481</td>\n",
       "      <td>0.296660</td>\n",
       "      <td>0.018911</td>\n",
       "    </tr>\n",
       "  </tbody>\n",
       "</table>\n",
       "</div>"
      ],
      "text/plain": [
       "          0         1         2         3         4         5         6  \\\n",
       "0 -3.124665  0.602923  0.176340 -2.620393  0.859325  0.169814 -2.672981   \n",
       "1 -2.384626  0.683787  0.165180 -2.022942  0.886538  0.158366 -2.089496   \n",
       "2 -1.539282  0.709806  0.153752 -1.291654  0.899981  0.144585 -1.119688   \n",
       "3 -0.504570  0.722659  0.139996 -0.076183  0.909727  0.121858 -0.054652   \n",
       "4  1.215219  0.731977  0.117310  1.258638  0.915251  0.096789  1.420061   \n",
       "\n",
       "          7         8         9        10        11  \n",
       "0  0.654761  0.161274 -2.651677  0.266549  0.142931  \n",
       "1  0.671006  0.147480 -1.840416  0.280253  0.120063  \n",
       "2  0.682782  0.124734 -0.949496  0.288021  0.094836  \n",
       "3  0.689457  0.099643  0.284127  0.292150  0.059734  \n",
       "4  0.693005  0.064729  1.678481  0.296660  0.018911  "
      ]
     },
     "execution_count": 30,
     "metadata": {},
     "output_type": "execute_result"
    }
   ],
   "source": [
    "# prepare data set\n",
    "if type_norm == \"zscore\":\n",
    "    kind_norm = KindNormalization.Zscore\n",
    "elif type_norm == \"maxmin\":\n",
    "    kind_norm = KindNormalization.Scaling\n",
    "data = Dataset(data_file, split, cylindrical, num_hits, kind_norm, points_3d=points_3d)\n",
    "\n",
    "X_train, y_train = data.get_training_data(n_hit_in=time_steps, n_hit_out=1,\n",
    "                             n_features=n_features, normalise=normalise)\n",
    "\n",
    "print('[Data] Shape supervised: X%s y%s :' % (X_train.shape, y_train.shape))\n",
    "print('[Data] Normalised :', normalise)\n",
    "X_train.head()"
   ]
  },
  {
   "cell_type": "code",
   "execution_count": 31,
   "metadata": {},
   "outputs": [
    {
     "name": "stdout",
     "output_type": "stream",
     "text": [
      "[Data] Saving distributions at  results/MEnGHa5DCmJGE9C9BpAg4i\n",
      "[Data] Shape Tensor X_train.shape: (144000, 12)\n",
      "[Data] Shape Tensor y_train.shape: (144000, 3)\n"
     ]
    }
   ],
   "source": [
    "if normalise:\n",
    "    print('[Data] Saving distributions at ', output_encry)\n",
    "    data.save_scale_param(output_encry)\n",
    "    \n",
    "if type_model == 'lstm' or type_model == 'cnn' or type_model == 'gaussian-lstm':\n",
    "    if not is_parallel:\n",
    "        X_train_ = data.reshape3d(X_train, time_steps, t_features)\n",
    "        y_train_ = y_train\n",
    "    print('[Data] Shape Tensor X_train.shape:', X_train.shape)\n",
    "elif type_model == 'lstm-parallel' or type_model == 'cnn-parallel':\n",
    "    if not is_parallel:\n",
    "        print('DEBUG')\n",
    "\n",
    "    X_train_ = np.reshape(X_train.values, (X_train.shape[0], time_steps, n_features))\n",
    "    #X_train = data.reshape3d(X_train, time_steps, n_features)\n",
    "    y_train_ = np.reshape(y_train.values, (y_train.shape[0], n_features))\n",
    "\n",
    "    X1 = X_train_[:,:,0].reshape(X_train_.shape[0], X_train_.shape[1], t_features)\n",
    "    X2 = X_train_[:,:,1].reshape(X_train_.shape[0], X_train_.shape[1], t_features)\n",
    "    X3 = X_train_[:,:,2].reshape(X_train_.shape[0], X_train_.shape[1], t_features)\n",
    "\n",
    "    Y1 = y_train_[:,0].reshape(y_train_.shape[0],  t_features)\n",
    "    Y2 = y_train_[:,1].reshape(y_train_.shape[0],  t_features)\n",
    "    Y3 = y_train_[:,2].reshape(y_train_.shape[0],  t_features)\n",
    "\n",
    "    X_train_ = [X1, X2, X3]\n",
    "\n",
    "#print('[Data] Shape Tensor X_train.shape:', X_train.shape)\n",
    "print('[Data] Shape Tensor y_train.shape:', y_train_.shape)\n"
   ]
  },
  {
   "cell_type": "code",
   "execution_count": 32,
   "metadata": {},
   "outputs": [],
   "source": [
    "#!pip install livelossplot --quiet\n",
    "import keras\n",
    "from keras.callbacks import EarlyStopping, ModelCheckpoint, TerminateOnNaN\n",
    "from livelossplot import PlotLossesKeras\n"
   ]
  },
  {
   "cell_type": "code",
   "execution_count": 33,
   "metadata": {
    "scrolled": true
   },
   "outputs": [
    {
     "data": {
      "image/png": "[encoded data removed]",
      "text/plain": [
       "<Figure size 864x576 with 2 Axes>"
      ]
     },
     "metadata": {
      "needs_background": "light"
     },
     "output_type": "display_data"
    },
    {
     "name": "stdout",
     "output_type": "stream",
     "text": [
      "accuracy\n",
      "\ttraining         \t (min:    0.734, max:    0.996, cur:    0.996)\n",
      "\tvalidation       \t (min:    0.982, max:    0.996, cur:    0.996)\n",
      "Loss\n",
      "\ttraining         \t (min:   -9.172, max:    5.658, cur:   -9.112)\n",
      "\tvalidation       \t (min:   -9.108, max:   -4.823, cur:   -8.801)\n",
      "[Model] Model for inference saved at compiled/model-gaussian-lstm-MEnGHa5DCmJGE9C9BpAg4i-coord-cylin-normalise-true-epochs-30-batch-30.h5\n",
      "[Model] Model training stopped at 0 epoch\n",
      "[Model] Training Completed. Model h5 saved as compiled/model-gaussian-lstm-MEnGHa5DCmJGE9C9BpAg4i-coord-cylin-normalise-true-epochs-30-batch-30.h5\n",
      "[Model] Model train with structure: [<tf.Tensor 'input_5:0' shape=(None, 4, 3) dtype=float32>]\n",
      "Time taken: 0:11:32.287923\n",
      "accuracy: 0.9960790872573853, loss: -8.800642013549805, val_acc: 0.9963095188140869, val_loss: -8.800642013549805\n"
     ]
    },
    {
     "data": {
      "image/png": "[encoded data removed]",
      "text/plain": [
       "<Figure size 432x288 with 1 Axes>"
      ]
     },
     "metadata": {
      "needs_background": "light"
     },
     "output_type": "display_data"
    },
    {
     "data": {
      "image/png": "[encoded data removed]",
      "text/plain": [
       "<Figure size 432x288 with 1 Axes>"
      ]
     },
     "metadata": {
      "needs_background": "light"
     },
     "output_type": "display_data"
    },
    {
     "name": "stdout",
     "output_type": "stream",
     "text": [
      "[Output] Metrics saved at %s results/MEnGHa5DCmJGE9C9BpAg4i/evaluation-loss_gaussian-lstm_cylin.png\n",
      "Time taken: 0:11:32.584750\n"
     ]
    }
   ],
   "source": [
    "# training model\n",
    "model = manage_models(configs)\n",
    "\n",
    "if model is None:\n",
    "    print('Please instance model')\n",
    "\n",
    "show_metrics = configs['training']['show_metrics']\n",
    "report = \"\"\n",
    "\n",
    "if cylindrical:\n",
    "    coord = 'cylin'\n",
    "else:\n",
    "    coord = 'xyz'\n",
    "\n",
    "ident_name = model.name + \"_\" + coord \n",
    "timer = Timer()\n",
    "\n",
    "# configure callbacks\n",
    "early_stop = EarlyStopping(monitor='val_loss', patience=50, verbose=1)\n",
    "terminate_nan = TerminateOnNaN()\n",
    "plotlosses = PlotLossesKeras()\n",
    "\n",
    "if not loadModel:\n",
    "    if not over_write:\n",
    "        # if exist, please used the compiled model!\n",
    "        if model.exist_model(model.save_fnameh5):\n",
    "            print(\"[Warning] Please there is a previous model compiled (%s) for %s file.\" \n",
    "                % (model.save_fnameh5, data_file))\n",
    "\n",
    "    model.build_model()\n",
    "    save_fname = os.path.join(output_encry, 'architecture_%s.png' % ident_name)\n",
    "    model.save_architecture(save_fname) \n",
    "\n",
    "    timer.start()\n",
    "    \n",
    "    check_point = ModelCheckpoint(filepath=model.save_fnameh5, monitor='val_loss', \n",
    "                    mode='min', save_best_only=True)\n",
    "    # live training\n",
    "    history = model.train(\n",
    "        x=X_train_,\n",
    "        y=y_train_,\n",
    "        validation=validation_split,\n",
    "        epochs=epochs,\n",
    "        verbose=False,\n",
    "        batch_size=batch,\n",
    "        shuffle=shuffle_train,\n",
    "        callbacks=[early_stop, plotlosses, terminate_nan]\n",
    "    )\n",
    "    #if show_metrics:\n",
    "    report = evaluate_training(history, output_encry, ident_name)\n",
    "    timer.stop()\n",
    "elif loadModel:       \n",
    "    if not model.load_model():\n",
    "        print ('[Error] please change the config file : load_model')\n",
    "#session.close()"
   ]
  },
  {
   "cell_type": "code",
   "execution_count": 36,
   "metadata": {},
   "outputs": [
    {
     "name": "stdout",
     "output_type": "stream",
     "text": [
      "Final cost: -9.1116\n"
     ]
    }
   ],
   "source": [
    "history.history\n",
    "#report = evaluate_training(history, output_encry, ident_name)\n",
    "print('Final cost: {0:.4f}'.format(history.history['loss'][-1]))\n",
    "# 0.002, 0.0011\n",
    "# gaussian 2.2359\n",
    "# lstm\n",
    "#  accuracy: 0.9964583516120911, loss: 0.00020314622088335454, val_acc: 0.9964583516120911, val_loss: 0.00020314622088335454"
   ]
  },
  {
   "cell_type": "code",
   "execution_count": 37,
   "metadata": {},
   "outputs": [],
   "source": [
    "#model.save_model(model.save_fnameh5) "
   ]
  },
  {
   "cell_type": "code",
   "execution_count": 38,
   "metadata": {},
   "outputs": [
    {
     "name": "stdout",
     "output_type": "stream",
     "text": [
      "[Output] All results saved at results/MEnGHa5DCmJGE9C9BpAg4i directory it results-train.txt file. Please use notebooks/plot_prediction.ipynb\n"
     ]
    }
   ],
   "source": [
    "\n",
    "# save results in a file    \n",
    "orig_stdout = sys.stdout\n",
    "f = open(os.path.join(output_encry, 'results-train.txt'), 'a')\n",
    "sys.stdout = f\n",
    "\n",
    "now = dt.datetime.now()\n",
    "print(\"[Output] Train results \")\n",
    "print(\"---Parameters--- \")\n",
    "print(\"\\t Model Name        : \", model.name)\n",
    "print(\"\\t Dataset           : \", model.orig_ds_name)\n",
    "print(\"\\t Total tracks      : \", len(X_train))\n",
    "print(\"\\t Path saved        : \", model.save_fnameh5) \n",
    "print(\"\\t Coordenate        : \", coord)\n",
    "print(\"\\t Coordenate 3D     : \", points_3d) \n",
    "print(\"\\t Compiled date     : %s taken %s\" % (timer.start_dt.strftime(\"%d/%m/%Y %H:%M:%S\"), timer.taken()))    \n",
    "print(\"\\t Model scaled      : \", model.normalise)\n",
    "print(\"\\t Model scaled      : \", type_norm)\n",
    "print(\"\\t Model Optimizer   : \", optim)\n",
    "print(\"\\t Model batch_size  : \", batch)\n",
    "print(\"\\t Model learn rate  : \", lr)\n",
    "print(\"\\t Model epochs      : %s  stopped %s \" % (epochs, model.stopped_epoch))\n",
    "print(\"\\t Accuracy          : \", report)\n",
    "print(\"\\t Architecture      : \", arch)\n",
    "   \n",
    "sys.stdout = orig_stdout\n",
    "f.close()    \n",
    "\n",
    "print('[Output] All results saved at %s directory it results-train.txt file. Please use notebooks/plot_prediction.ipynb' % output_encry)    \n"
   ]
  },
  {
   "cell_type": "code",
   "execution_count": null,
   "metadata": {},
   "outputs": [],
   "source": []
  }
 ],
 "metadata": {
  "kernelspec": {
   "display_name": "Python 3",
   "language": "python",
   "name": "python3"
  },
  "language_info": {
   "codemirror_mode": {
    "name": "ipython",
    "version": 3
   },
   "file_extension": ".py",
   "mimetype": "text/x-python",
   "name": "python",
   "nbconvert_exporter": "python",
   "pygments_lexer": "ipython3",
   "version": "3.8.2"
  }
 },
 "nbformat": 4,
 "nbformat_minor": 4
}
